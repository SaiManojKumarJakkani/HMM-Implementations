{
  "cells": [
    {
      "cell_type": "code",
      "source": [
        "%matplotlib inline\n",
        "\n",
        "from google.colab import drive\n",
        "drive.mount('/content/drive')"
      ],
      "metadata": {
        "colab": {
          "base_uri": "https://localhost:8080/"
        },
        "id": "hbnYH0fHODt6",
        "outputId": "b6c59c8a-0ed0-4374-8267-4072a10d6e2f"
      },
      "execution_count": 1,
      "outputs": [
        {
          "output_type": "stream",
          "name": "stdout",
          "text": [
            "Mounted at /content/drive\n"
          ]
        }
      ]
    },
    {
      "cell_type": "code",
      "execution_count": 2,
      "metadata": {
        "_cell_guid": "b1076dfc-b9ad-4769-8c92-a6c4dae69d19",
        "_uuid": "8f2839f25d086af736a60e9eeb907d3b93b6e0e5",
        "execution": {
          "iopub.execute_input": "2022-03-23T09:04:11.887645Z",
          "iopub.status.busy": "2022-03-23T09:04:11.887135Z",
          "iopub.status.idle": "2022-03-23T09:04:13.445464Z",
          "shell.execute_reply": "2022-03-23T09:04:13.444607Z",
          "shell.execute_reply.started": "2022-03-23T09:04:11.887554Z"
        },
        "id": "cKzcC85ENrze"
      },
      "outputs": [],
      "source": [
        "import numpy as np\n",
        "from scipy.io import wavfile\n",
        "from scipy.spatial.distance import cdist\n",
        "import os, random\n",
        "from sklearn.cluster import KMeans\n",
        "bias = np.finfo(0.).tiny\n",
        "def readData(dire):\n",
        "    Data = {}\n",
        "    title= {}\n",
        "    i = 0\n",
        "    for fname in os.scandir(dire):\n",
        "        if fname.is_file():\n",
        "            rate, samples = wavfile.read(fname.path)\n",
        "            temp = Spectro(rate, samples).T\n",
        "            Data.update({i: np.array(temp, copy=True)})\n",
        "            title.update({i: fname})\n",
        "            i = i + 1\n",
        "    return Data,title\n",
        "\n",
        "def Spectro(rate, samples):\n",
        "    total = int((len(samples) - rate * 0.025) / (rate * 0.01) + 1)\n",
        "    spectro = np.zeros((int(64 / 2), total), dtype=complex)\n",
        "    for i in range(total):\n",
        "        value = np.fft.fft( np.hamming(400) * samples[int(i * 0.01 * rate):int(i * 0.01 * rate) + int(0.025 * rate)], 64)\n",
        "        spectro[:, i] = value[0:int(64 / 2)]\n",
        "    return np.log(np.absolute(spectro))\n",
        "\n",
        "def MyKmeans(x, noOfMix, itr=20):\n",
        "    N = x.shape[0]\n",
        "    ran = np.random.choice(N, noOfMix)\n",
        "    means = x[ran, :]\n",
        "    dist = cdist(x, means, 'euclidean')\n",
        "    clusters = np.array([np.argmin(i) for i in dist])\n",
        "    i = 0\n",
        "    while i < itr:\n",
        "        means = []\n",
        "        for ran in range(noOfMix):\n",
        "            temp = x[clusters == ran].mean(axis=0)\n",
        "            means.append(temp)\n",
        "        means = np.vstack(means)\n",
        "        dist = cdist(x, means, 'euclidean')\n",
        "        clusters = np.array([np.argmin(i) for i in dist])\n",
        "        i = i + 1\n",
        "    return clusters\n"
      ]
    },
    {
      "cell_type": "code",
      "execution_count": 3,
      "metadata": {
        "execution": {
          "iopub.execute_input": "2022-03-23T09:04:13.447359Z",
          "iopub.status.busy": "2022-03-23T09:04:13.447124Z",
          "iopub.status.idle": "2022-03-23T09:04:13.457762Z",
          "shell.execute_reply": "2022-03-23T09:04:13.457046Z",
          "shell.execute_reply.started": "2022-03-23T09:04:13.447324Z"
        },
        "id": "nz6EC9OBNrzi"
      },
      "outputs": [],
      "source": [
        "def ViterbiAlgo(transition, prior, emission, observation):\n",
        "    N = transition.shape[0]\n",
        "    T = len(observation)\n",
        "\n",
        "    transition,prior,emission = np.log(transition + bias), np.log(prior + bias), np.log(emission + bias)\n",
        "\n",
        "    prob = np.zeros((N, T))    \n",
        "    backTrack = np.zeros((N, T-1)).astype(np.int32)\n",
        "    for i in range(0,3):\n",
        "        prob[i][0] = prior[i] + emission[i][observation[0]]\n",
        "\n",
        "    for t in range(1, T):\n",
        "        for i in range(N):\n",
        "            s = transition[:, i] + prob[:, t-1]\n",
        "            backTrack[i][t-1] = np.argmax(s)\n",
        "            prob[i][t] =  emission[i][observation[t]]+ np.max(s)\n",
        "\n",
        "    FinalSS = [0]*T\n",
        "    FinalSS[-1] = np.argmax(prob[:, -1])\n",
        "    for n in range(T-2, -1, -1):\n",
        "        FinalSS[n] = backTrack[int(FinalSS[n+1]), n]\n",
        "    return FinalSS"
      ]
    },
    {
      "cell_type": "code",
      "execution_count": 4,
      "metadata": {
        "execution": {
          "iopub.execute_input": "2022-03-23T09:04:13.459347Z",
          "iopub.status.busy": "2022-03-23T09:04:13.458721Z",
          "iopub.status.idle": "2022-03-23T09:04:36.306530Z",
          "shell.execute_reply": "2022-03-23T09:04:36.305557Z",
          "shell.execute_reply.started": "2022-03-23T09:04:13.459314Z"
        },
        "colab": {
          "base_uri": "https://localhost:8080/"
        },
        "id": "xGvM1kmBNrzj",
        "outputId": "54081ce8-f86a-417b-9416-e84384c69c34"
      },
      "outputs": [
        {
          "output_type": "stream",
          "name": "stdout",
          "text": [
            "[1 0 0 ... 1 1 1] is the best state sequence for <DirEntry 'greek1.wav'> using the given HMM definition.\n"
          ]
        }
      ],
      "source": [
        "prior = np.array([0.5, 0.5, 0.0])\n",
        "mat = [[0.6, 0.4, 0.0], [0.3, 0.5, 0.2], [0.0, 0.1, 0.9]]\n",
        "transition = np.array(mat)\n",
        "mat = [[0.25, 0.25, 0.25, 0.25, 0.0, 0.0, 0.0, 0.0],\n",
        "       [0.125, 0.125, 0.125, 0.125, 0.125, 0.125, 0.125, 0.125],\n",
        "        [0.0, 0.0, 0.0, 0.0, 0.0, 0.5, 0.5, 0.0]]\n",
        "emission = np.array(mat)\n",
        "\n",
        "#Data preprocessing\n",
        "SpeechData,speechTitle = readData('/content/drive/MyDrive/SaiManoj Kumar/speech_music_classification/train/speech')\n",
        "musicData, musicTitle= readData('/content/drive/MyDrive/MLSP/SaiManoj Kumar/speech_music_classification/train/music')\n",
        "\n",
        "x=np.array([])\n",
        "flag=0\n",
        "for i in SpeechData:\n",
        "    if flag==0:\n",
        "        x=SpeechData[i]\n",
        "        flag=1\n",
        "    else:\n",
        "        x = np.vstack((x, SpeechData[i]))\n",
        "for i in musicData:\n",
        "    x = np.vstack((x, musicData[i]))\n",
        "\n",
        "MyKmeans = KMeans(n_clusters=8, init='k-means++', random_state=42).fit(x)\n",
        "y_predict = MyKmeans.labels_\n",
        "i=0\n",
        "for j in range(0, 40*2998, 2998 ):\n",
        "    SpeechData.update({i: y_predict[j:j+2998]})\n",
        "    i=i+1\n",
        "i=0\n",
        "for j in range(40*2998, 2*40*2998, 2998 ):\n",
        "    musicData.update({i: y_predict[j:j+2998]})\n",
        "    i=i+1\n",
        "\n",
        "list1 = list(range(0,len(SpeechData)))\n",
        "speechFile=random.choice(list1)\n",
        "\n",
        "observationSpeech= SpeechData[speechFile]\n",
        "file=speechTitle[speechFile]\n",
        "finalSS = ViterbiAlgo(transition, prior, emission, observationSpeech)\n",
        "print(np.array(finalSS),\"is the best state sequence for\",file,\"using the given HMM definition.\")"
      ]
    },
    {
      "cell_type": "code",
      "execution_count": 4,
      "metadata": {
        "id": "HwkXxk-CNrzk"
      },
      "outputs": [],
      "source": [
        ""
      ]
    }
  ],
  "metadata": {
    "kernelspec": {
      "display_name": "Python 3 (ipykernel)",
      "language": "python",
      "name": "python3"
    },
    "language_info": {
      "codemirror_mode": {
        "name": "ipython",
        "version": 3
      },
      "file_extension": ".py",
      "mimetype": "text/x-python",
      "name": "python",
      "nbconvert_exporter": "python",
      "pygments_lexer": "ipython3",
      "version": "3.9.7"
    },
    "colab": {
      "name": "Viterbi algorithm.ipynb",
      "provenance": [],
      "collapsed_sections": []
    }
  },
  "nbformat": 4,
  "nbformat_minor": 0
}