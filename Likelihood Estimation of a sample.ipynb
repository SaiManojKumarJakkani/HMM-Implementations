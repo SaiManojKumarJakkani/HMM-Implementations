{
  "cells": [
    {
      "cell_type": "code",
      "source": [
        "%matplotlib inline\n",
        "\n",
        "from google.colab import drive\n",
        "drive.mount('/content/drive')"
      ],
      "metadata": {
        "colab": {
          "base_uri": "https://localhost:8080/"
        },
        "id": "Jq1aiX1eJP3J",
        "outputId": "1cb5059e-bab2-4738-dc7d-0462e1dcdd18"
      },
      "execution_count": 2,
      "outputs": [
        {
          "output_type": "stream",
          "name": "stdout",
          "text": [
            "Drive already mounted at /content/drive; to attempt to forcibly remount, call drive.mount(\"/content/drive\", force_remount=True).\n"
          ]
        }
      ]
    },
    {
      "cell_type": "code",
      "execution_count": 3,
      "metadata": {
        "_cell_guid": "b1076dfc-b9ad-4769-8c92-a6c4dae69d19",
        "_uuid": "8f2839f25d086af736a60e9eeb907d3b93b6e0e5",
        "execution": {
          "iopub.execute_input": "2022-03-23T07:26:01.050394Z",
          "iopub.status.busy": "2022-03-23T07:26:01.050081Z",
          "iopub.status.idle": "2022-03-23T07:26:01.070244Z",
          "shell.execute_reply": "2022-03-23T07:26:01.069205Z",
          "shell.execute_reply.started": "2022-03-23T07:26:01.050362Z"
        },
        "id": "Rq1mDJLMJL7W"
      },
      "outputs": [],
      "source": [
        "import numpy as np\n",
        "from scipy.io import wavfile\n",
        "from scipy.spatial.distance import cdist\n",
        "import math\n",
        "import os\n",
        "from sklearn.cluster import KMeans\n",
        "import random\n",
        "\n",
        "def readData(dire):\n",
        "    Data = {}\n",
        "    title= {}\n",
        "    i = 0\n",
        "    for fname in os.scandir(dire):\n",
        "        if fname.is_file():\n",
        "            rate, samples = wavfile.read(fname.path)\n",
        "            temp = Spectro(rate, samples).T\n",
        "            Data.update({i: np.array(temp, copy=True)})\n",
        "            title.update({i: fname})\n",
        "            i = i + 1\n",
        "    return Data\n",
        "\n",
        "def Spectro(rate, samples):\n",
        "    total = int((len(samples) - rate * 0.025) / (rate * 0.01) + 1)\n",
        "    spectro = np.zeros((int(64 / 2), total), dtype=complex)\n",
        "    for i in range(total):\n",
        "        value = np.fft.fft(np.hamming(400) * samples[int(i * 0.01 * rate):int(i * 0.01 * rate) + int(0.025 * rate)], 64)\n",
        "        spectro[:, i] = value[0:int(64 / 2)]\n",
        "    return np.log(np.absolute(spectro))\n",
        "\n",
        "\n",
        "def MyKmeans(x, noOfMix, itr=20):\n",
        "        N = x.shape[0]\n",
        "        ran = np.random.choice(N, noOfMix)\n",
        "        means = x[ran, :]\n",
        "        dist = cdist(x, means, 'euclidean')\n",
        "        clusters = np.array([np.argmin(i) for i in dist])\n",
        "        i = 0\n",
        "        while i < itr:\n",
        "            means = []\n",
        "            for ran in range(noOfMix):\n",
        "                temp = x[clusters == ran].mean(axis=0)\n",
        "                means.append(temp)\n",
        "            means = np.vstack(means)\n",
        "            dist = cdist(x, means, 'euclidean')\n",
        "            clusters = np.array([np.argmin(i) for i in dist])\n",
        "            i = i + 1\n",
        "        return clusters\n",
        "\n",
        "prior = np.array([0.5, 0.5, 0.0])\n",
        "mat = [[0.6, 0.4, 0.0], [0.3, 0.5, 0.2], [0.0, 0.1, 0.9]]\n",
        "transition = np.array(mat)\n",
        "mat = [[0.25, 0.25, 0.25, 0.25, 0.0, 0.0, 0.0, 0.0],\n",
        "       [0.125, 0.125, 0.125, 0.125, 0.125, 0.125, 0.125, 0.125],\n",
        "       [0.0, 0.0, 0.0, 0.0, 0.0, 0.5, 0.5, 0.0]]\n",
        "emission = np.array(mat)\n",
        "\n",
        "\n"
      ]
    },
    {
      "cell_type": "code",
      "execution_count": 4,
      "metadata": {
        "execution": {
          "iopub.execute_input": "2022-03-23T07:26:01.072933Z",
          "iopub.status.busy": "2022-03-23T07:26:01.072085Z",
          "iopub.status.idle": "2022-03-23T07:26:22.222668Z",
          "shell.execute_reply": "2022-03-23T07:26:22.221650Z",
          "shell.execute_reply.started": "2022-03-23T07:26:01.072866Z"
        },
        "id": "qvEr4T51JL7b"
      },
      "outputs": [],
      "source": [
        "#Preprocessing the data\n",
        "SpeechData = readData('/content/drive/MyDrive/SaiManoj Kumar/speech_music_classification/train/speech')\n",
        "musicData= readData('/content/drive/MyDrive/SaiManoj Kumar/speech_music_classification/train/music')\n",
        "\n",
        "x=np.array([])\n",
        "flag=0\n",
        "for i in SpeechData:\n",
        "    if flag==0:\n",
        "        x=SpeechData[i]\n",
        "        flag=1\n",
        "    else:\n",
        "        x = np.vstack((x, SpeechData[i]))\n",
        "for i in musicData:\n",
        "    x = np.vstack((x, musicData[i]))\n",
        "\n",
        "MyKmeans = KMeans(n_clusters=8, init='k-means++', random_state=42).fit(x)\n",
        "y_predict = MyKmeans.labels_\n",
        "i=0\n",
        "for j in range(0, 40*2998, 2998 ):\n",
        "    SpeechData.update({i: y_predict[j:j+2998]})\n",
        "    i=i+1\n",
        "i=0\n",
        "for j in range(40*2998, 2*40*2998, 2998 ):\n",
        "    musicData.update({i: y_predict[j:j+2998]})\n",
        "    i=i+1\n",
        "\n",
        "list1 = list(range(0,len(SpeechData)))\n",
        "speechFile=random.choice(list1)\n",
        "list1 = list(range(0,len(musicData)))\n",
        "musicFile=random.choice(list1)"
      ]
    },
    {
      "cell_type": "code",
      "execution_count": 5,
      "metadata": {
        "execution": {
          "iopub.execute_input": "2022-03-23T07:26:22.224430Z",
          "iopub.status.busy": "2022-03-23T07:26:22.224219Z",
          "iopub.status.idle": "2022-03-23T07:26:22.381075Z",
          "shell.execute_reply": "2022-03-23T07:26:22.380094Z",
          "shell.execute_reply.started": "2022-03-23T07:26:22.224403Z"
        },
        "colab": {
          "base_uri": "https://localhost:8080/"
        },
        "id": "GCXLn8ZKJL7c",
        "outputId": "eab4e9af-f3e6-4c73-b829-ab2bc8194295"
      },
      "outputs": [
        {
          "output_type": "stream",
          "name": "stdout",
          "text": [
            "Speech file is more likely under forward algorithm model\n"
          ]
        }
      ],
      "source": [
        "#Probability estimation using Forward Algorithm\n",
        "observationSpeech= SpeechData[speechFile]\n",
        "observationMusic = musicData[musicFile]\n",
        "\n",
        "def forward(observation):\n",
        "    T = observation.shape[0]\n",
        "    alphaN = np.array([0.0] * 3)\n",
        "    alphaN_1 = np.array([0.0] * 3)\n",
        "    c = np.array([0.0] * T)\n",
        "    for t in range(0, T):\n",
        "        if t == 0:\n",
        "            s = 0\n",
        "            for i in range(0, 3):\n",
        "                alphaN[i] = emission[i][observation[t]] * prior[i]\n",
        "                s = s + alphaN[i]\n",
        "            c[t] = 1 / s\n",
        "            for i in range(0, 3):\n",
        "                alphaN[i] = alphaN[i] * c[t]\n",
        "        else:\n",
        "            s = 0\n",
        "            for j in range(0, 3):\n",
        "                count = 0\n",
        "                for i in range(0, 3):\n",
        "                    count = count + alphaN[i] * transition[i][j] * emission[j][observation[t]]\n",
        "                alphaN_1[j] = count\n",
        "                s = s + alphaN_1[j]\n",
        "            c[t] = 1 / s\n",
        "            for i in range(0, 3):\n",
        "                alphaN_1[i] = alphaN_1[i] * c[t]\n",
        "            alphaN = alphaN_1\n",
        "    finalprob = 0\n",
        "    for i in range(0, T):\n",
        "        finalprob = finalprob + math.log(c[i])\n",
        "    return (0 - finalprob), c\n",
        "\n",
        "\n",
        "finalprob_Speech, scalingSpeech = forward(observationSpeech)\n",
        "finalprob_Music, scalingMusic = forward(observationMusic)\n",
        "if finalprob_Speech > finalprob_Music:\n",
        "    print(\"Speech file is more likely under forward algorithm model\")\n",
        "else:\n",
        "    print(\"Music file is more likely under forward algorithm model\")"
      ]
    },
    {
      "cell_type": "code",
      "execution_count": 6,
      "metadata": {
        "execution": {
          "iopub.execute_input": "2022-03-23T07:26:22.382870Z",
          "iopub.status.busy": "2022-03-23T07:26:22.382531Z",
          "iopub.status.idle": "2022-03-23T07:26:22.531497Z",
          "shell.execute_reply": "2022-03-23T07:26:22.530625Z",
          "shell.execute_reply.started": "2022-03-23T07:26:22.382826Z"
        },
        "colab": {
          "base_uri": "https://localhost:8080/"
        },
        "id": "fQLfgPtXJL7d",
        "outputId": "d563b40e-e408-46b0-9e16-9754bb1d7904"
      },
      "outputs": [
        {
          "output_type": "stream",
          "name": "stdout",
          "text": [
            "Speech file is more likely under backward algorithm model\n"
          ]
        }
      ],
      "source": [
        "#Probability estimation using Backward Algorithm\n",
        "prior = np.array([0.5, 0.5, 0.0])\n",
        "mat = [[0.6, 0.4, 0.0], [0.3, 0.5, 0.2], [0.0, 0.1, 0.9]]\n",
        "transition = np.array(mat)\n",
        "mat = [[0.25, 0.25, 0.25, 0.25, 0.0, 0.0, 0.0, 0.0],\n",
        "       [0.125, 0.125, 0.125, 0.125, 0.125, 0.125, 0.125, 0.125],\n",
        "       [0.0, 0.0, 0.0, 0.0, 0.0, 0.5, 0.5, 0.0]]\n",
        "emission = np.array(mat)\n",
        "\n",
        "\n",
        "def backward(observation, scaling):\n",
        "    T = observation.shape[0]\n",
        "    alphaN = np.array([0.0] * 3)\n",
        "    alphaN_1 = np.array([0.0] * 3)\n",
        "    for t in range(T - 1, -1, -1):\n",
        "        if t == T - 1:\n",
        "            alphaN = np.array([1.0] * 3)\n",
        "            for i in range(0, 3):\n",
        "                alphaN[i] = alphaN[i] * scaling[t]\n",
        "        else:\n",
        "            for i in range(0, 3):\n",
        "                count = 0\n",
        "                for j in range(0, 3):\n",
        "                    count = count + transition[i][j] * emission[j][observation[t + 1]] * alphaN[j]\n",
        "                alphaN_1[i] = count\n",
        "            for i in range(0, 3):\n",
        "                alphaN_1[i] = alphaN_1[i] * scaling[t]\n",
        "            alphaN = alphaN_1\n",
        "    finalprob = 0\n",
        "    for i in range(0, 3):\n",
        "        finalprob = finalprob + prior[i] * alphaN[i] * emission[i][observation[0]]\n",
        "    return finalprob\n",
        "\n",
        "\n",
        "finalprob_Speech = backward(observationSpeech, scalingSpeech)\n",
        "finalprob_Music = backward(observationMusic, scalingMusic)\n",
        "\n",
        "\n",
        "if finalprob_Speech > finalprob_Music:\n",
        "    print(\"Speech file is more likely under backward algorithm model\")\n",
        "else:\n",
        "    print(\"Music file is more likely under backward algorithm model\")"
      ]
    }
  ],
  "metadata": {
    "kernelspec": {
      "display_name": "Python 3 (ipykernel)",
      "language": "python",
      "name": "python3"
    },
    "language_info": {
      "codemirror_mode": {
        "name": "ipython",
        "version": 3
      },
      "file_extension": ".py",
      "mimetype": "text/x-python",
      "name": "python",
      "nbconvert_exporter": "python",
      "pygments_lexer": "ipython3",
      "version": "3.9.7"
    },
    "colab": {
      "name": "3) AB(Forwar and Backward).ipynb",
      "provenance": [],
      "collapsed_sections": []
    }
  },
  "nbformat": 4,
  "nbformat_minor": 0
}